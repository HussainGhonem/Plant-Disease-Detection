{
 "cells": [
  {
   "cell_type": "markdown",
   "metadata": {},
   "source": [
    "Let's test our combined model\n"
   ]
  },
  {
   "cell_type": "code",
   "execution_count": 1,
   "metadata": {},
   "outputs": [],
   "source": [
    "from tensorflow.keras.models import load_model\n",
    "\n",
    "\n",
    "# Specify the path to the saved model file (change this to your model's path)\n",
    "\n",
    "type_model_path = 'CNN_Choosing_PlantDisease_64.h5'\n",
    "\n",
    "colored_model_path = 'CNN_Colored_PlantDisease_64.h5'\n",
    "\n",
    "grayscale_model_path = 'CNN_grayscale_PlantDisease_64.h5'\n",
    "\n",
    "segmented_model_path = 'CNN_Segmented_PlantDisease_64.h5'\n",
    "\n",
    "# Load the saved model\n",
    "\n",
    "type_model = load_model(type_model_path)\n",
    "\n",
    "colored_model = load_model(colored_model_path)\n",
    "\n",
    "grayscale_model = load_model(grayscale_model_path)\n",
    "\n",
    "segmented_model = load_model(segmented_model_path)"
   ]
  },
  {
   "cell_type": "code",
   "execution_count": 2,
   "metadata": {},
   "outputs": [
    {
     "name": "stdout",
     "output_type": "stream",
     "text": [
      "{'Apple___Apple_scab': 0, 'Apple___Black_rot': 1, 'Apple___Cedar_apple_rust': 2, 'Apple___healthy': 3, 'Blueberry___healthy': 4, 'Cherry_(including_sour)___healthy': 5, 'Cherry_(including_sour)___Powdery_mildew': 6, 'Corn_(maize)___Cercospora_leaf_spot Gray_leaf_spot': 7, 'Corn_(maize)___Common_rust_': 8, 'Corn_(maize)___healthy': 9, 'Corn_(maize)___Northern_Leaf_Blight': 10, 'Grape___Black_rot': 11, 'Grape___Esca_(Black_Measles)': 12, 'Grape___healthy': 13, 'Grape___Leaf_blight_(Isariopsis_Leaf_Spot)': 14, 'Orange___Haunglongbing_(Citrus_greening)': 15, 'Peach___Bacterial_spot': 16, 'Peach___healthy': 17, 'Pepper,_bell___Bacterial_spot': 18, 'Pepper,_bell___healthy': 19, 'Potato___Early_blight': 20, 'Potato___healthy': 21, 'Potato___Late_blight': 22, 'Raspberry___healthy': 23, 'Soybean___healthy': 24, 'Squash___Powdery_mildew': 25, 'Strawberry___healthy': 26, 'Strawberry___Leaf_scorch': 27, 'Tomato___Bacterial_spot': 28, 'Tomato___Early_blight': 29, 'Tomato___healthy': 30, 'Tomato___Late_blight': 31, 'Tomato___Leaf_Mold': 32, 'Tomato___Septoria_leaf_spot': 33, 'Tomato___Spider_mites Two-spotted_spider_mite': 34, 'Tomato___Target_Spot': 35, 'Tomato___Tomato_mosaic_virus': 36, 'Tomato___Tomato_Yellow_Leaf_Curl_Virus': 37}\n"
     ]
    }
   ],
   "source": [
    "import os\n",
    "\n",
    "def create_label_dictionary(folder_path):\n",
    "    label_dict = {}\n",
    "    \n",
    "    # Get a list of all folders in the specified path\n",
    "    folders = [f for f in os.listdir(folder_path) if os.path.isdir(os.path.join(folder_path, f))]\n",
    "    \n",
    "    # Assign numerical labels to folders\n",
    "    for i, folder in enumerate(folders):\n",
    "        label_dict[folder] = i\n",
    "\n",
    "    return label_dict\n",
    "\n",
    "# Specify the path to the folder containing labeled subfolders\n",
    "folder_path = 'C:\\\\Users\\\\glowi\\\\Desktop\\\\SYNC_internship\\\\Plant disease\\\\archive\\\\plantvillage dataset\\\\color'\n",
    "\n",
    "# Create the label dictionary\n",
    "label_dictionary = create_label_dictionary(folder_path)\n",
    "\n",
    "print(label_dictionary)\n"
   ]
  },
  {
   "cell_type": "code",
   "execution_count": 3,
   "metadata": {},
   "outputs": [],
   "source": [
    "import cv2\n",
    "import numpy as np\n",
    "\n",
    "def classify_image(image_path):\n",
    "    # Read the image using OpenCV\n",
    "    img = cv2.imread(image_path)\n",
    "\n",
    "    # Resize the image to a consistent size\n",
    "    img = cv2.resize(img, (64, 64))\n",
    "\n",
    "    # Normalize pixel values to the range [0, 1]\n",
    "    img = img.astype('float32') / 64.0\n",
    "\n",
    "    # Expand dimensions to match the model's expected input shape\n",
    "    img = np.expand_dims(img, axis=0)\n",
    "\n",
    "    # Determine the type of the image\n",
    "    type_prediction = np.argmax(type_model.predict(img))\n",
    "\n",
    "    # Classify based on the type\n",
    "    if type_prediction == 0:  # Colored\n",
    "        result = colored_model.predict(img)\n",
    "        class_prediction = np.argmax(result)\n",
    "        class_confidence = result[0][class_prediction]\n",
    "        class_label = 'Colored'\n",
    "\n",
    "    elif type_prediction == 1:  # Grayscale\n",
    "        result = grayscale_model.predict(img)\n",
    "        class_prediction = np.argmax(result)\n",
    "        class_confidence = result[0][class_prediction]\n",
    "        class_label = 'Grayscale'\n",
    "\n",
    "    else:  # Segmented\n",
    "        result = segmented_model.predict(img)\n",
    "        class_prediction = np.argmax(result)\n",
    "        class_confidence = result[0][class_prediction]\n",
    "        class_label = 'Segmented'\n",
    "\n",
    "    return class_label, class_prediction, class_confidence\n"
   ]
  },
  {
   "cell_type": "code",
   "execution_count": 4,
   "metadata": {},
   "outputs": [
    {
     "name": "stdout",
     "output_type": "stream",
     "text": [
      "Type: Colored, Prediction: Apple___Black_rot , Confidence: 0.9715620875358582\n"
     ]
    }
   ],
   "source": [
    "# Example usage\n",
    "image_path = 'archive\\\\plantvillage dataset\\\\color\\\\Apple___Black_rot\\\\0b37761a-de32-47ee-a3a4-e138b97ef542___JR_FrgE.S 2908.JPG'\n",
    "label, prediction, confidence = classify_image(image_path)\n",
    "\n",
    "# Access the class name associated with the numerical label 1\n",
    "class_name_for_label = next(key for key, value in label_dictionary.items() if value == prediction)\n",
    "\n",
    "print(f\"Type: {label}, Prediction: {class_name_for_label} , Confidence: {confidence}\")\n"
   ]
  },
  {
   "cell_type": "code",
   "execution_count": null,
   "metadata": {},
   "outputs": [],
   "source": []
  }
 ],
 "metadata": {
  "kernelspec": {
   "display_name": "Python 3",
   "language": "python",
   "name": "python3"
  },
  "language_info": {
   "codemirror_mode": {
    "name": "ipython",
    "version": 3
   },
   "file_extension": ".py",
   "mimetype": "text/x-python",
   "name": "python",
   "nbconvert_exporter": "python",
   "pygments_lexer": "ipython3",
   "version": "3.8.5"
  }
 },
 "nbformat": 4,
 "nbformat_minor": 4
}
